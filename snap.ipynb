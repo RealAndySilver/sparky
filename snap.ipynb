{
 "cells": [
  {
   "cell_type": "code",
   "execution_count": 2,
   "metadata": {},
   "outputs": [
    {
     "name": "stdout",
     "output_type": "stream",
     "text": [
      "Defaulting to user installation because normal site-packages is not writeable\n",
      "Collecting pyspark\n",
      "  Downloading pyspark-3.3.1.tar.gz (281.4 MB)\n",
      "\u001b[2K     \u001b[90m━━━━━━━━━━━━━━━━━━━━━━━━━━━━━━━━━━━━━━━\u001b[0m \u001b[32m281.4/281.4 MB\u001b[0m \u001b[31m5.2 MB/s\u001b[0m eta \u001b[36m0:00:00\u001b[0m00:01\u001b[0m00:01\u001b[0m\n",
      "\u001b[?25h  Preparing metadata (setup.py) ... \u001b[?25ldone\n",
      "\u001b[?25hCollecting py4j==0.10.9.5\n",
      "  Downloading py4j-0.10.9.5-py2.py3-none-any.whl (199 kB)\n",
      "\u001b[2K     \u001b[90m━━━━━━━━━━━━━━━━━━━━━━━━━━━━━━━━━━━━━━\u001b[0m \u001b[32m199.7/199.7 kB\u001b[0m \u001b[31m19.7 MB/s\u001b[0m eta \u001b[36m0:00:00\u001b[0m\n",
      "\u001b[?25hBuilding wheels for collected packages: pyspark\n",
      "  Building wheel for pyspark (setup.py) ... \u001b[?25ldone\n",
      "\u001b[?25h  Created wheel for pyspark: filename=pyspark-3.3.1-py2.py3-none-any.whl size=281845499 sha256=131f2c082587039fde80d64d0197d8fa6620cdb9d7510fa29bd21b6544f056d6\n",
      "  Stored in directory: /home/vscode/.cache/pip/wheels/0f/f0/3d/517368b8ce80486e84f89f214e0a022554e4ee64969f46279b\n",
      "Successfully built pyspark\n",
      "Installing collected packages: py4j, pyspark\n",
      "Successfully installed py4j-0.10.9.5 pyspark-3.3.1\n",
      "\n",
      "\u001b[1m[\u001b[0m\u001b[34;49mnotice\u001b[0m\u001b[1;39;49m]\u001b[0m\u001b[39;49m A new release of pip available: \u001b[0m\u001b[31;49m22.2.2\u001b[0m\u001b[39;49m -> \u001b[0m\u001b[32;49m22.3.1\u001b[0m\n",
      "\u001b[1m[\u001b[0m\u001b[34;49mnotice\u001b[0m\u001b[1;39;49m]\u001b[0m\u001b[39;49m To update, run: \u001b[0m\u001b[32;49mpip install --upgrade pip\u001b[0m\n",
      "Defaulting to user installation because normal site-packages is not writeable\n",
      "Collecting findspark\n",
      "  Downloading findspark-2.0.1-py2.py3-none-any.whl (4.4 kB)\n",
      "Installing collected packages: findspark\n",
      "Successfully installed findspark-2.0.1\n",
      "\n",
      "\u001b[1m[\u001b[0m\u001b[34;49mnotice\u001b[0m\u001b[1;39;49m]\u001b[0m\u001b[39;49m A new release of pip available: \u001b[0m\u001b[31;49m22.2.2\u001b[0m\u001b[39;49m -> \u001b[0m\u001b[32;49m22.3.1\u001b[0m\n",
      "\u001b[1m[\u001b[0m\u001b[34;49mnotice\u001b[0m\u001b[1;39;49m]\u001b[0m\u001b[39;49m To update, run: \u001b[0m\u001b[32;49mpip install --upgrade pip\u001b[0m\n"
     ]
    }
   ],
   "source": [
    "%pip install pyspark\n",
    "%pip install findspark\n",
    "import findspark\n",
    "import pyspark\n",
    "findspark.init()\n",
    "from pyspark.sql import SparkSession\n"
   ]
  },
  {
   "cell_type": "code",
   "execution_count": 5,
   "metadata": {},
   "outputs": [],
   "source": [
    "spark = SparkSession.builder.master(\"local[*]\").getOrCreate()\n",
    "spark.conf.set(\"spark.sql.repl.eagerEval.enabled\", True) # Property used to format output tables better"
   ]
  },
  {
   "cell_type": "code",
   "execution_count": 7,
   "metadata": {},
   "outputs": [
    {
     "data": {
      "text/html": [
       "<table border='1'>\n",
       "<tr><th>UID</th><th>iso2</th><th>iso3</th><th>code3</th><th>FIPS</th><th>Admin2</th><th>Province_State</th><th>Country_Region</th><th>Lat</th><th>Long_</th><th>Combined_Key</th><th>Population</th></tr>\n",
       "<tr><td>4</td><td>AF</td><td>AFG</td><td>4</td><td>null</td><td>null</td><td>null</td><td>Afghanistan</td><td>33.93911</td><td>67.709953</td><td>Afghanistan</td><td>38928341</td></tr>\n",
       "<tr><td>8</td><td>AL</td><td>ALB</td><td>8</td><td>null</td><td>null</td><td>null</td><td>Albania</td><td>41.1533</td><td>20.1683</td><td>Albania</td><td>2877800</td></tr>\n",
       "<tr><td>10</td><td>AQ</td><td>ATA</td><td>10</td><td>null</td><td>null</td><td>null</td><td>Antarctica</td><td>-71.9499</td><td>23.347</td><td>Antarctica</td><td>null</td></tr>\n",
       "<tr><td>12</td><td>DZ</td><td>DZA</td><td>12</td><td>null</td><td>null</td><td>null</td><td>Algeria</td><td>28.0339</td><td>1.6596</td><td>Algeria</td><td>43851043</td></tr>\n",
       "<tr><td>20</td><td>AD</td><td>AND</td><td>20</td><td>null</td><td>null</td><td>null</td><td>Andorra</td><td>42.5063</td><td>1.5218</td><td>Andorra</td><td>77265</td></tr>\n",
       "<tr><td>24</td><td>AO</td><td>AGO</td><td>24</td><td>null</td><td>null</td><td>null</td><td>Angola</td><td>-11.2027</td><td>17.8739</td><td>Angola</td><td>32866268</td></tr>\n",
       "<tr><td>28</td><td>AG</td><td>ATG</td><td>28</td><td>null</td><td>null</td><td>null</td><td>Antigua and Barbuda</td><td>17.0608</td><td>-61.7964</td><td>Antigua and Barbuda</td><td>97928</td></tr>\n",
       "<tr><td>32</td><td>AR</td><td>ARG</td><td>32</td><td>null</td><td>null</td><td>null</td><td>Argentina</td><td>-38.4161</td><td>-63.6167</td><td>Argentina</td><td>45195777</td></tr>\n",
       "<tr><td>51</td><td>AM</td><td>ARM</td><td>51</td><td>null</td><td>null</td><td>null</td><td>Armenia</td><td>40.0691</td><td>45.0382</td><td>Armenia</td><td>2963234</td></tr>\n",
       "<tr><td>40</td><td>AT</td><td>AUT</td><td>40</td><td>null</td><td>null</td><td>null</td><td>Austria</td><td>47.5162</td><td>14.5501</td><td>Austria</td><td>9006400</td></tr>\n",
       "<tr><td>31</td><td>AZ</td><td>AZE</td><td>31</td><td>null</td><td>null</td><td>null</td><td>Azerbaijan</td><td>40.1431</td><td>47.5769</td><td>Azerbaijan</td><td>10139175</td></tr>\n",
       "<tr><td>44</td><td>BS</td><td>BHS</td><td>44</td><td>null</td><td>null</td><td>null</td><td>Bahamas</td><td>25.025885</td><td>-78.035889</td><td>Bahamas</td><td>393248</td></tr>\n",
       "<tr><td>48</td><td>BH</td><td>BHR</td><td>48</td><td>null</td><td>null</td><td>null</td><td>Bahrain</td><td>26.0275</td><td>50.55</td><td>Bahrain</td><td>1701583</td></tr>\n",
       "<tr><td>50</td><td>BD</td><td>BGD</td><td>50</td><td>null</td><td>null</td><td>null</td><td>Bangladesh</td><td>23.685</td><td>90.3563</td><td>Bangladesh</td><td>164689383</td></tr>\n",
       "<tr><td>52</td><td>BB</td><td>BRB</td><td>52</td><td>null</td><td>null</td><td>null</td><td>Barbados</td><td>13.1939</td><td>-59.5432</td><td>Barbados</td><td>287371</td></tr>\n",
       "<tr><td>112</td><td>BY</td><td>BLR</td><td>112</td><td>null</td><td>null</td><td>null</td><td>Belarus</td><td>53.7098</td><td>27.9534</td><td>Belarus</td><td>9449321</td></tr>\n",
       "<tr><td>56</td><td>BE</td><td>BEL</td><td>56</td><td>null</td><td>null</td><td>null</td><td>Belgium</td><td>50.8333</td><td>4.469936</td><td>Belgium</td><td>11492641</td></tr>\n",
       "<tr><td>5601</td><td>BE</td><td>BEL</td><td>56</td><td>null</td><td>null</td><td>Antwerp</td><td>Belgium</td><td>51.2195</td><td>4.4024</td><td>Antwerp, Belgium</td><td>1869730</td></tr>\n",
       "<tr><td>5602</td><td>BE</td><td>BEL</td><td>56</td><td>null</td><td>null</td><td>Brussels</td><td>Belgium</td><td>50.8503</td><td>4.3517</td><td>Brussels, Belgium</td><td>1218255</td></tr>\n",
       "<tr><td>5603</td><td>BE</td><td>BEL</td><td>56</td><td>null</td><td>null</td><td>East Flanders</td><td>Belgium</td><td>51.0362</td><td>3.7373</td><td>East Flanders, Be...</td><td>1525255</td></tr>\n",
       "</table>\n",
       "only showing top 20 rows\n"
      ],
      "text/plain": [
       "+----+----+----+-----+----+------+--------------+-------------------+---------+----------+--------------------+----------+\n",
       "| UID|iso2|iso3|code3|FIPS|Admin2|Province_State|     Country_Region|      Lat|     Long_|        Combined_Key|Population|\n",
       "+----+----+----+-----+----+------+--------------+-------------------+---------+----------+--------------------+----------+\n",
       "|   4|  AF| AFG|    4|null|  null|          null|        Afghanistan| 33.93911| 67.709953|         Afghanistan|  38928341|\n",
       "|   8|  AL| ALB|    8|null|  null|          null|            Albania|  41.1533|   20.1683|             Albania|   2877800|\n",
       "|  10|  AQ| ATA|   10|null|  null|          null|         Antarctica| -71.9499|    23.347|          Antarctica|      null|\n",
       "|  12|  DZ| DZA|   12|null|  null|          null|            Algeria|  28.0339|    1.6596|             Algeria|  43851043|\n",
       "|  20|  AD| AND|   20|null|  null|          null|            Andorra|  42.5063|    1.5218|             Andorra|     77265|\n",
       "|  24|  AO| AGO|   24|null|  null|          null|             Angola| -11.2027|   17.8739|              Angola|  32866268|\n",
       "|  28|  AG| ATG|   28|null|  null|          null|Antigua and Barbuda|  17.0608|  -61.7964| Antigua and Barbuda|     97928|\n",
       "|  32|  AR| ARG|   32|null|  null|          null|          Argentina| -38.4161|  -63.6167|           Argentina|  45195777|\n",
       "|  51|  AM| ARM|   51|null|  null|          null|            Armenia|  40.0691|   45.0382|             Armenia|   2963234|\n",
       "|  40|  AT| AUT|   40|null|  null|          null|            Austria|  47.5162|   14.5501|             Austria|   9006400|\n",
       "|  31|  AZ| AZE|   31|null|  null|          null|         Azerbaijan|  40.1431|   47.5769|          Azerbaijan|  10139175|\n",
       "|  44|  BS| BHS|   44|null|  null|          null|            Bahamas|25.025885|-78.035889|             Bahamas|    393248|\n",
       "|  48|  BH| BHR|   48|null|  null|          null|            Bahrain|  26.0275|     50.55|             Bahrain|   1701583|\n",
       "|  50|  BD| BGD|   50|null|  null|          null|         Bangladesh|   23.685|   90.3563|          Bangladesh| 164689383|\n",
       "|  52|  BB| BRB|   52|null|  null|          null|           Barbados|  13.1939|  -59.5432|            Barbados|    287371|\n",
       "| 112|  BY| BLR|  112|null|  null|          null|            Belarus|  53.7098|   27.9534|             Belarus|   9449321|\n",
       "|  56|  BE| BEL|   56|null|  null|          null|            Belgium|  50.8333|  4.469936|             Belgium|  11492641|\n",
       "|5601|  BE| BEL|   56|null|  null|       Antwerp|            Belgium|  51.2195|    4.4024|    Antwerp, Belgium|   1869730|\n",
       "|5602|  BE| BEL|   56|null|  null|      Brussels|            Belgium|  50.8503|    4.3517|   Brussels, Belgium|   1218255|\n",
       "|5603|  BE| BEL|   56|null|  null| East Flanders|            Belgium|  51.0362|    3.7373|East Flanders, Be...|   1525255|\n",
       "+----+----+----+-----+----+------+--------------+-------------------+---------+----------+--------------------+----------+\n",
       "only showing top 20 rows"
      ]
     },
     "execution_count": 7,
     "metadata": {},
     "output_type": "execute_result"
    }
   ],
   "source": [
    "data_df = spark.read.csv('content/data.csv', header=True, inferSchema=True)\n",
    "data_df"
   ]
  },
  {
   "cell_type": "code",
   "execution_count": null,
   "metadata": {},
   "outputs": [],
   "source": []
  }
 ],
 "metadata": {
  "kernelspec": {
   "display_name": "Python 3.10.8 64-bit",
   "language": "python",
   "name": "python3"
  },
  "language_info": {
   "codemirror_mode": {
    "name": "ipython",
    "version": 3
   },
   "file_extension": ".py",
   "mimetype": "text/x-python",
   "name": "python",
   "nbconvert_exporter": "python",
   "pygments_lexer": "ipython3",
   "version": "3.10.8"
  },
  "orig_nbformat": 4,
  "vscode": {
   "interpreter": {
    "hash": "949777d72b0d2535278d3dc13498b2535136f6dfe0678499012e853ee9abcab1"
   }
  }
 },
 "nbformat": 4,
 "nbformat_minor": 2
}
