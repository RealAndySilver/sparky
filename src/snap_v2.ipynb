{
 "cells": [
  {
   "cell_type": "markdown",
   "id": "4f395271",
   "metadata": {},
   "source": [
    "## Add dependencies"
   ]
  },
  {
   "cell_type": "code",
   "execution_count": 1,
   "id": "1aa93153",
   "metadata": {},
   "outputs": [],
   "source": [
    "from pyspark.sql import SparkSession\n",
    "import math\n",
    "from datetime import datetime\n",
    "from pyspark.sql.types import TimestampType\n",
    "from pyspark.sql.functions import udf"
   ]
  },
  {
   "cell_type": "markdown",
   "id": "684a7796",
   "metadata": {},
   "source": [
    "### Spark session & context"
   ]
  },
  {
   "cell_type": "code",
   "execution_count": 3,
   "id": "01569339",
   "metadata": {},
   "outputs": [],
   "source": [
    "# spark = SparkSession.\\\n",
    "#         builder.\\\n",
    "#         appName(\"clustered-science\").\\\n",
    "#         master(\"spark://spark-master:7077\").\\\n",
    "#         config(\"spark.executor.memory\", \"1g\").\\\n",
    "#         getOrCreate()"
   ]
  },
  {
   "cell_type": "code",
   "execution_count": 2,
   "id": "88409c31",
   "metadata": {},
   "outputs": [
    {
     "name": "stderr",
     "output_type": "stream",
     "text": [
      "22/11/16 17:57:00 WARN NativeCodeLoader: Unable to load native-hadoop library for your platform... using builtin-java classes where applicable\n",
      "Using Spark's default log4j profile: org/apache/spark/log4j-defaults.properties\n",
      "Setting default log level to \"WARN\".\n",
      "To adjust logging level use sc.setLogLevel(newLevel). For SparkR, use setLogLevel(newLevel).\n"
     ]
    }
   ],
   "source": [
    "spark = SparkSession.builder.appName(\"live-earth-science\").master(\"local\").getOrCreate()\n",
    "sc = spark.sparkContext"
   ]
  },
  {
   "cell_type": "markdown",
   "id": "33a717b2",
   "metadata": {
    "tags": []
   },
   "source": [
    "### Create data frame"
   ]
  },
  {
   "cell_type": "code",
   "execution_count": 3,
   "id": "d5726eba",
   "metadata": {},
   "outputs": [
    {
     "data": {
      "text/plain": [
       "'underdrain.csv'"
      ]
     },
     "execution_count": 3,
     "metadata": {},
     "output_type": "execute_result"
    }
   ],
   "source": [
    "import wget\n",
    "\n",
    "url = \"https://raw.githubusercontent.com/RealAndySilver/sparky/0e433680f7577e15c15641001b9a3114137b85e5/data/underdrain.csv\"\n",
    "wget.download(url)"
   ]
  },
  {
   "cell_type": "code",
   "execution_count": null,
   "id": "6e1e35c7",
   "metadata": {},
   "outputs": [],
   "source": [
    "# data_df = spark.read.csv('./underdrain.csv',\n",
    "#                          header=True,\n",
    "#                          inferSchema=True)"
   ]
  },
  {
   "cell_type": "code",
   "execution_count": 4,
   "id": "79dda097",
   "metadata": {},
   "outputs": [
    {
     "name": "stderr",
     "output_type": "stream",
     "text": [
      "                                                                                \r"
     ]
    },
    {
     "name": "stdout",
     "output_type": "stream",
     "text": [
      "root\n",
      " |-- OBJECTID: integer (nullable = true)\n",
      " |-- DCH_FEA_KEY: integer (nullable = true)\n",
      " |-- DCH_GRPH_KEY: integer (nullable = true)\n",
      " |-- DCH_FEATYPE_TEXT: string (nullable = true)\n",
      " |-- DCH_OWNER_NAME: string (nullable = true)\n",
      " |-- DCH_PRBL_FLOW_TYPE: string (nullable = true)\n",
      " |-- DCH_MATERIAL_TYPE: string (nullable = true)\n",
      " |-- DCH_PIPE_SHP_TEXT: string (nullable = true)\n",
      " |-- DCH_LIFECYCLE_STAT: string (nullable = true)\n",
      " |-- DCH_DSTNTN_TYPE: string (nullable = true)\n",
      " |-- DCH_INSPECT_FLAG: string (nullable = true)\n",
      " |-- DCH_CASING_FLAG: string (nullable = true)\n",
      " |-- DCH_PERF_PIPE_FLAG: string (nullable = true)\n",
      " |-- DCH_LENGTH_FT_NBR: double (nullable = true)\n",
      " |-- DCH_WIDTH_IN_NBR: integer (nullable = true)\n",
      " |-- DCH_HEIGHT_IN_NBR: integer (nullable = true)\n",
      " |-- DCH_UPS_ELEV_FT_NBR: double (nullable = true)\n",
      " |-- DCH_DNS_ELEV_FT_NBR: double (nullable = true)\n",
      " |-- DCH_INSTALL_DATE: string (nullable = true)\n",
      " |-- DCH_LST_UPDT_DATE: string (nullable = true)\n",
      " |-- DCH_STREAM_NAME: string (nullable = true)\n",
      " |-- DCH_GSIP_NAME: string (nullable = true)\n",
      " |-- SHAPE_Length: double (nullable = true)\n",
      "\n"
     ]
    }
   ],
   "source": [
    "data_df = spark.read.csv('underdrain.csv',\n",
    "                         header=True,\n",
    "                         inferSchema=True)\n",
    "data_df.printSchema()\n",
    "filtered_df = data_df.filter(data_df.DCH_INSTALL_DATE.isNotNull())"
   ]
  },
  {
   "cell_type": "code",
   "execution_count": 5,
   "id": "6e3699bc",
   "metadata": {},
   "outputs": [
    {
     "data": {
      "text/plain": [
       "[Row(OBJECTID=43126, DCH_FEA_KEY=4900872, DCH_GRPH_KEY=None, DCH_FEATYPE_TEXT='Under Drain', DCH_OWNER_NAME='Seattle Public Utilities', DCH_PRBL_FLOW_TYPE='Sanitary', DCH_MATERIAL_TYPE='Ductile Iron Pipe', DCH_PIPE_SHP_TEXT='Circular', DCH_LIFECYCLE_STAT='Connected', DCH_DSTNTN_TYPE=None, DCH_INSPECT_FLAG='Y', DCH_CASING_FLAG='N', DCH_PERF_PIPE_FLAG='Y', DCH_LENGTH_FT_NBR=59.34, DCH_WIDTH_IN_NBR=8, DCH_HEIGHT_IN_NBR=8, DCH_UPS_ELEV_FT_NBR=None, DCH_DNS_ELEV_FT_NBR=None, DCH_INSTALL_DATE='2003/10/08 13:24:57+00', DCH_LST_UPDT_DATE='2013/02/01 00:00:00+00', DCH_STREAM_NAME=None, DCH_GSIP_NAME=None, SHAPE_Length=59.3412744546279),\n",
       " Row(OBJECTID=43128, DCH_FEA_KEY=4900968, DCH_GRPH_KEY=None, DCH_FEATYPE_TEXT='Under Drain', DCH_OWNER_NAME='Seattle Public Utilities', DCH_PRBL_FLOW_TYPE='Drainage', DCH_MATERIAL_TYPE='Ductile Iron Pipe', DCH_PIPE_SHP_TEXT='Circular', DCH_LIFECYCLE_STAT='Connected', DCH_DSTNTN_TYPE=None, DCH_INSPECT_FLAG='Y', DCH_CASING_FLAG='N', DCH_PERF_PIPE_FLAG='Y', DCH_LENGTH_FT_NBR=31.3, DCH_WIDTH_IN_NBR=6, DCH_HEIGHT_IN_NBR=6, DCH_UPS_ELEV_FT_NBR=None, DCH_DNS_ELEV_FT_NBR=None, DCH_INSTALL_DATE='2003/10/08 13:57:42+00', DCH_LST_UPDT_DATE='2013/02/01 00:00:00+00', DCH_STREAM_NAME=None, DCH_GSIP_NAME=None, SHAPE_Length=31.2952437363673),\n",
       " Row(OBJECTID=43359, DCH_FEA_KEY=4946535, DCH_GRPH_KEY=None, DCH_FEATYPE_TEXT='Under Drain', DCH_OWNER_NAME='Private', DCH_PRBL_FLOW_TYPE='Drainage', DCH_MATERIAL_TYPE='Unknown', DCH_PIPE_SHP_TEXT='Circular', DCH_LIFECYCLE_STAT='Connected', DCH_DSTNTN_TYPE=None, DCH_INSPECT_FLAG='Y', DCH_CASING_FLAG='N', DCH_PERF_PIPE_FLAG='N', DCH_LENGTH_FT_NBR=99.71, DCH_WIDTH_IN_NBR=None, DCH_HEIGHT_IN_NBR=None, DCH_UPS_ELEV_FT_NBR=None, DCH_DNS_ELEV_FT_NBR=None, DCH_INSTALL_DATE='2009/10/15 13:51:14+00', DCH_LST_UPDT_DATE='2013/02/01 00:00:00+00', DCH_STREAM_NAME=None, DCH_GSIP_NAME=None, SHAPE_Length=99.7148255104631),\n",
       " Row(OBJECTID=43593, DCH_FEA_KEY=4959469, DCH_GRPH_KEY=None, DCH_FEATYPE_TEXT='Under Drain', DCH_OWNER_NAME='Private', DCH_PRBL_FLOW_TYPE='Drainage', DCH_MATERIAL_TYPE='Polyvinyl Chloride', DCH_PIPE_SHP_TEXT='Circular', DCH_LIFECYCLE_STAT='Connected', DCH_DSTNTN_TYPE=None, DCH_INSPECT_FLAG='Y', DCH_CASING_FLAG='N', DCH_PERF_PIPE_FLAG='Y', DCH_LENGTH_FT_NBR=96.47, DCH_WIDTH_IN_NBR=6, DCH_HEIGHT_IN_NBR=6, DCH_UPS_ELEV_FT_NBR=None, DCH_DNS_ELEV_FT_NBR=None, DCH_INSTALL_DATE='2010/07/29 09:45:24+00', DCH_LST_UPDT_DATE='2013/02/01 00:00:00+00', DCH_STREAM_NAME=None, DCH_GSIP_NAME=None, SHAPE_Length=96.4664322308999),\n",
       " Row(OBJECTID=43594, DCH_FEA_KEY=4959476, DCH_GRPH_KEY=None, DCH_FEATYPE_TEXT='Under Drain', DCH_OWNER_NAME='Private', DCH_PRBL_FLOW_TYPE='Drainage', DCH_MATERIAL_TYPE='Polyvinyl Chloride', DCH_PIPE_SHP_TEXT='Circular', DCH_LIFECYCLE_STAT='Connected', DCH_DSTNTN_TYPE=None, DCH_INSPECT_FLAG='Y', DCH_CASING_FLAG='N', DCH_PERF_PIPE_FLAG='Y', DCH_LENGTH_FT_NBR=96.76, DCH_WIDTH_IN_NBR=6, DCH_HEIGHT_IN_NBR=6, DCH_UPS_ELEV_FT_NBR=None, DCH_DNS_ELEV_FT_NBR=None, DCH_INSTALL_DATE='2010/07/29 09:54:27+00', DCH_LST_UPDT_DATE='2013/02/01 00:00:00+00', DCH_STREAM_NAME=None, DCH_GSIP_NAME=None, SHAPE_Length=96.7559382370513),\n",
       " Row(OBJECTID=43595, DCH_FEA_KEY=4959482, DCH_GRPH_KEY=None, DCH_FEATYPE_TEXT='Under Drain', DCH_OWNER_NAME='Private', DCH_PRBL_FLOW_TYPE='Drainage', DCH_MATERIAL_TYPE='Polyvinyl Chloride', DCH_PIPE_SHP_TEXT='Circular', DCH_LIFECYCLE_STAT='Connected', DCH_DSTNTN_TYPE=None, DCH_INSPECT_FLAG='Y', DCH_CASING_FLAG='N', DCH_PERF_PIPE_FLAG='Y', DCH_LENGTH_FT_NBR=74.06, DCH_WIDTH_IN_NBR=6, DCH_HEIGHT_IN_NBR=6, DCH_UPS_ELEV_FT_NBR=None, DCH_DNS_ELEV_FT_NBR=None, DCH_INSTALL_DATE='2010/07/29 09:55:55+00', DCH_LST_UPDT_DATE='2013/02/01 00:00:00+00', DCH_STREAM_NAME=None, DCH_GSIP_NAME=None, SHAPE_Length=74.057582632488),\n",
       " Row(OBJECTID=43719, DCH_FEA_KEY=4975773, DCH_GRPH_KEY=None, DCH_FEATYPE_TEXT='Under Drain', DCH_OWNER_NAME='Private', DCH_PRBL_FLOW_TYPE='Drainage', DCH_MATERIAL_TYPE='Polyvinyl Chloride', DCH_PIPE_SHP_TEXT='Circular', DCH_LIFECYCLE_STAT='Connected', DCH_DSTNTN_TYPE=None, DCH_INSPECT_FLAG='Y', DCH_CASING_FLAG='N', DCH_PERF_PIPE_FLAG='Y', DCH_LENGTH_FT_NBR=26.1, DCH_WIDTH_IN_NBR=None, DCH_HEIGHT_IN_NBR=None, DCH_UPS_ELEV_FT_NBR=None, DCH_DNS_ELEV_FT_NBR=None, DCH_INSTALL_DATE='2005/08/18 16:04:10+00', DCH_LST_UPDT_DATE='2013/02/01 00:00:00+00', DCH_STREAM_NAME=None, DCH_GSIP_NAME=None, SHAPE_Length=26.0999402787214),\n",
       " Row(OBJECTID=43720, DCH_FEA_KEY=4975829, DCH_GRPH_KEY=None, DCH_FEATYPE_TEXT='Under Drain', DCH_OWNER_NAME='Private', DCH_PRBL_FLOW_TYPE='Drainage', DCH_MATERIAL_TYPE='Polyvinyl Chloride', DCH_PIPE_SHP_TEXT='Circular', DCH_LIFECYCLE_STAT='Connected', DCH_DSTNTN_TYPE=None, DCH_INSPECT_FLAG='Y', DCH_CASING_FLAG='N', DCH_PERF_PIPE_FLAG='Y', DCH_LENGTH_FT_NBR=71.92, DCH_WIDTH_IN_NBR=None, DCH_HEIGHT_IN_NBR=None, DCH_UPS_ELEV_FT_NBR=None, DCH_DNS_ELEV_FT_NBR=None, DCH_INSTALL_DATE='2005/08/18 16:13:53+00', DCH_LST_UPDT_DATE='2013/02/01 00:00:00+00', DCH_STREAM_NAME=None, DCH_GSIP_NAME=None, SHAPE_Length=71.9219667641647),\n",
       " Row(OBJECTID=43721, DCH_FEA_KEY=4975832, DCH_GRPH_KEY=None, DCH_FEATYPE_TEXT='Under Drain', DCH_OWNER_NAME='Private', DCH_PRBL_FLOW_TYPE='Drainage', DCH_MATERIAL_TYPE='Polyvinyl Chloride', DCH_PIPE_SHP_TEXT='Circular', DCH_LIFECYCLE_STAT='Connected', DCH_DSTNTN_TYPE=None, DCH_INSPECT_FLAG='Y', DCH_CASING_FLAG='N', DCH_PERF_PIPE_FLAG='Y', DCH_LENGTH_FT_NBR=59.61, DCH_WIDTH_IN_NBR=None, DCH_HEIGHT_IN_NBR=None, DCH_UPS_ELEV_FT_NBR=None, DCH_DNS_ELEV_FT_NBR=None, DCH_INSTALL_DATE='2005/08/18 16:13:53+00', DCH_LST_UPDT_DATE='2013/02/01 00:00:00+00', DCH_STREAM_NAME=None, DCH_GSIP_NAME=None, SHAPE_Length=59.6071144283581),\n",
       " Row(OBJECTID=43722, DCH_FEA_KEY=4975836, DCH_GRPH_KEY=None, DCH_FEATYPE_TEXT='Under Drain', DCH_OWNER_NAME='Private', DCH_PRBL_FLOW_TYPE='Drainage', DCH_MATERIAL_TYPE='Polyvinyl Chloride', DCH_PIPE_SHP_TEXT='Circular', DCH_LIFECYCLE_STAT='Connected', DCH_DSTNTN_TYPE=None, DCH_INSPECT_FLAG='Y', DCH_CASING_FLAG='N', DCH_PERF_PIPE_FLAG='Y', DCH_LENGTH_FT_NBR=36.42, DCH_WIDTH_IN_NBR=None, DCH_HEIGHT_IN_NBR=None, DCH_UPS_ELEV_FT_NBR=None, DCH_DNS_ELEV_FT_NBR=None, DCH_INSTALL_DATE='2005/08/18 16:13:53+00', DCH_LST_UPDT_DATE='2013/02/01 00:00:00+00', DCH_STREAM_NAME=None, DCH_GSIP_NAME=None, SHAPE_Length=36.4196222453169)]"
      ]
     },
     "execution_count": 5,
     "metadata": {},
     "output_type": "execute_result"
    }
   ],
   "source": [
    "filtered_rdd = filtered_df.rdd\n",
    "filtered_rdd.take(10)"
   ]
  },
  {
   "cell_type": "markdown",
   "id": "4ac70261",
   "metadata": {},
   "source": [
    "### Logic Code"
   ]
  },
  {
   "cell_type": "code",
   "execution_count": 6,
   "id": "73b5f110",
   "metadata": {},
   "outputs": [],
   "source": [
    "def get_timestamp(date_text):\n",
    "    \"\"\"Get timestamp from date text\"\"\"\n",
    "    try:\n",
    "        date_text = datetime.strptime(date_text, '%Y/%m/%d %H:%M:%S+00')\n",
    "    except ValueError:\n",
    "        date_text = datetime.strptime(\n",
    "            \"1900/01/01 01:01:01+00\", '%Y/%m/%d %H:%M:%S+00')\n",
    "\n",
    "    return date_text.timestamp()"
   ]
  },
  {
   "cell_type": "code",
   "execution_count": 7,
   "id": "0d4b2781",
   "metadata": {},
   "outputs": [],
   "source": [
    "def snap_time_to_resolution(timestamp, resolution=1):\n",
    "    \"\"\"Snap time to resolution\"\"\"\n",
    "    if resolution <= 0:\n",
    "        resolution = 1\n",
    "    resolution_ms = resolution * 60\n",
    "    snapped_time = datetime.fromtimestamp(\n",
    "        math.floor(timestamp / resolution_ms) * resolution_ms)\n",
    "\n",
    "    return snapped_time"
   ]
  },
  {
   "cell_type": "markdown",
   "id": "c0ef3349",
   "metadata": {},
   "source": [
    "# Create UDF\n",
    "\n",
    "*There are 2 ways of registering a UDF*"
   ]
  },
  {
   "cell_type": "markdown",
   "id": "85c03260",
   "metadata": {},
   "source": [
    "### Way #1: \n",
    "\n",
    "*add annotation **@udf()** on top of the function*"
   ]
  },
  {
   "cell_type": "code",
   "execution_count": 11,
   "id": "65cf945a",
   "metadata": {},
   "outputs": [],
   "source": [
    "@udf(returnType=TimestampType())\n",
    "def snap_row(date, resolution=15):\n",
    "    \"\"\"Snap row to resolution\"\"\"\n",
    "    timestamp = get_timestamp(date)\n",
    "    snapped_time = snap_time_to_resolution(timestamp, resolution)\n",
    "    return snapped_time\n"
   ]
  },
  {
   "cell_type": "code",
   "execution_count": 12,
   "id": "5939e487",
   "metadata": {},
   "outputs": [
    {
     "name": "stderr",
     "output_type": "stream",
     "text": [
      "                                                                                \r"
     ]
    }
   ],
   "source": [
    "filtered_df.withColumn('SNAPPED_TIME', snap_row(filtered_df.DCH_INSTALL_DATE)).write.mode(\"overwrite\").csv(\"data/csvs\", header=True)"
   ]
  },
  {
   "cell_type": "markdown",
   "id": "233d8c16",
   "metadata": {
    "tags": []
   },
   "source": [
    "### Way #2: \n",
    "\n",
    "\n",
    "*use the **udf()** function and wrap the function to register and a type as 2nd arg*"
   ]
  },
  {
   "cell_type": "code",
   "execution_count": null,
   "id": "44961596",
   "metadata": {},
   "outputs": [],
   "source": [
    "# def snap_row(date, resolution=15):\n",
    "#     \"\"\"Snap row to resolution\"\"\"\n",
    "#     timestamp = get_timestamp(date)\n",
    "#     snapped_time = snap_time_to_resolution(timestamp, resolution)\n",
    "#     return snapped_time\n",
    "\n",
    "# snap_udf = udf(snap_row, 'timestamp')\n",
    "# filtered_df.withColumn('SNAPPED_TIME', snap_udf(filtered_df.DCH_INSTALL_DATE)).write.mode(\"overwrite\").csv(\"data/csvs\", header=True)"
   ]
  },
  {
   "cell_type": "code",
   "execution_count": null,
   "id": "c8cd1485",
   "metadata": {},
   "outputs": [],
   "source": [
    "spark.sql(\"SHOW USER FUNCTIONS\").collect()"
   ]
  }
 ],
 "metadata": {
  "kernelspec": {
   "display_name": "Python 3 (ipykernel)",
   "language": "python",
   "name": "python3"
  },
  "language_info": {
   "codemirror_mode": {
    "name": "ipython",
    "version": 3
   },
   "file_extension": ".py",
   "mimetype": "text/x-python",
   "name": "python",
   "nbconvert_exporter": "python",
   "pygments_lexer": "ipython3",
   "version": "3.9.2"
  },
  "vscode": {
   "interpreter": {
    "hash": "767d51c1340bd893661ea55ea3124f6de3c7a262a8b4abca0554b478b1e2ff90"
   }
  }
 },
 "nbformat": 4,
 "nbformat_minor": 5
}
