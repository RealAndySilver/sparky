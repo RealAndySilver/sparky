{
 "cells": [
  {
   "cell_type": "markdown",
   "id": "abc3d3bc-8b23-4cf5-abcd-0775db8151f5",
   "metadata": {},
   "source": [
    "## Add dependencies"
   ]
  },
  {
   "cell_type": "code",
   "execution_count": 2,
   "id": "93e991a2-e3f1-44ad-b06e-0ab203cef7b6",
   "metadata": {},
   "outputs": [],
   "source": [
    "from pyspark.sql import SparkSession\n",
    "import math\n",
    "from datetime import datetime\n",
    "from pyspark.sql.types import TimestampType\n",
    "from pyspark.sql.functions import udf"
   ]
  },
  {
   "cell_type": "markdown",
   "id": "cafea26f-df69-47a8-b966-df69cff1f97f",
   "metadata": {},
   "source": [
    "### Spark session & context"
   ]
  },
  {
   "cell_type": "code",
   "execution_count": 21,
   "id": "ca78330b-8060-4f1f-90a3-157fae696bed",
   "metadata": {},
   "outputs": [],
   "source": [
    "spark = SparkSession.builder.master(\"local\").getOrCreate()\n",
    "sc = spark.sparkContext"
   ]
  },
  {
   "cell_type": "markdown",
   "id": "68e2f471-0180-4079-aa99-5a963128ba9b",
   "metadata": {
    "tags": []
   },
   "source": [
    "### Create data frame"
   ]
  },
  {
   "cell_type": "code",
   "execution_count": 22,
   "id": "925bf2a8-e2ff-4ede-938e-b5f32d94a1ae",
   "metadata": {},
   "outputs": [
    {
     "name": "stdout",
     "output_type": "stream",
     "text": [
      "root\n",
      " |-- OBJECTID: integer (nullable = true)\n",
      " |-- DCH_FEA_KEY: integer (nullable = true)\n",
      " |-- DCH_GRPH_KEY: integer (nullable = true)\n",
      " |-- DCH_FEATYPE_TEXT: string (nullable = true)\n",
      " |-- DCH_OWNER_NAME: string (nullable = true)\n",
      " |-- DCH_PRBL_FLOW_TYPE: string (nullable = true)\n",
      " |-- DCH_MATERIAL_TYPE: string (nullable = true)\n",
      " |-- DCH_PIPE_SHP_TEXT: string (nullable = true)\n",
      " |-- DCH_LIFECYCLE_STAT: string (nullable = true)\n",
      " |-- DCH_DSTNTN_TYPE: string (nullable = true)\n",
      " |-- DCH_INSPECT_FLAG: string (nullable = true)\n",
      " |-- DCH_CASING_FLAG: string (nullable = true)\n",
      " |-- DCH_PERF_PIPE_FLAG: string (nullable = true)\n",
      " |-- DCH_LENGTH_FT_NBR: double (nullable = true)\n",
      " |-- DCH_WIDTH_IN_NBR: integer (nullable = true)\n",
      " |-- DCH_HEIGHT_IN_NBR: integer (nullable = true)\n",
      " |-- DCH_UPS_ELEV_FT_NBR: double (nullable = true)\n",
      " |-- DCH_DNS_ELEV_FT_NBR: double (nullable = true)\n",
      " |-- DCH_INSTALL_DATE: string (nullable = true)\n",
      " |-- DCH_LST_UPDT_DATE: string (nullable = true)\n",
      " |-- DCH_STREAM_NAME: string (nullable = true)\n",
      " |-- DCH_GSIP_NAME: string (nullable = true)\n",
      " |-- SHAPE_Length: double (nullable = true)\n",
      "\n"
     ]
    }
   ],
   "source": [
    "data_df = spark.read.csv('data/underdrain.csv',\n",
    "                         header=True,\n",
    "                         inferSchema=True)\n",
    "data_df.printSchema()\n",
    "filtered_df = data_df.filter(data_df.DCH_INSTALL_DATE.isNotNull())"
   ]
  },
  {
   "cell_type": "code",
   "execution_count": 25,
   "id": "5ca0af6a-1997-4ffe-809d-baf66d75c350",
   "metadata": {},
   "outputs": [
    {
     "data": {
      "text/plain": [
       "[Row(OBJECTID=43126, DCH_FEA_KEY=4900872, DCH_GRPH_KEY=None, DCH_FEATYPE_TEXT='Under Drain', DCH_OWNER_NAME='Seattle Public Utilities', DCH_PRBL_FLOW_TYPE='Sanitary', DCH_MATERIAL_TYPE='Ductile Iron Pipe', DCH_PIPE_SHP_TEXT='Circular', DCH_LIFECYCLE_STAT='Connected', DCH_DSTNTN_TYPE=None, DCH_INSPECT_FLAG='Y', DCH_CASING_FLAG='N', DCH_PERF_PIPE_FLAG='Y', DCH_LENGTH_FT_NBR=59.34, DCH_WIDTH_IN_NBR=8, DCH_HEIGHT_IN_NBR=8, DCH_UPS_ELEV_FT_NBR=None, DCH_DNS_ELEV_FT_NBR=None, DCH_INSTALL_DATE='2003/10/08 13:24:57+00', DCH_LST_UPDT_DATE='2013/02/01 00:00:00+00', DCH_STREAM_NAME=None, DCH_GSIP_NAME=None, SHAPE_Length=59.3412744546279),\n",
       " Row(OBJECTID=43128, DCH_FEA_KEY=4900968, DCH_GRPH_KEY=None, DCH_FEATYPE_TEXT='Under Drain', DCH_OWNER_NAME='Seattle Public Utilities', DCH_PRBL_FLOW_TYPE='Drainage', DCH_MATERIAL_TYPE='Ductile Iron Pipe', DCH_PIPE_SHP_TEXT='Circular', DCH_LIFECYCLE_STAT='Connected', DCH_DSTNTN_TYPE=None, DCH_INSPECT_FLAG='Y', DCH_CASING_FLAG='N', DCH_PERF_PIPE_FLAG='Y', DCH_LENGTH_FT_NBR=31.3, DCH_WIDTH_IN_NBR=6, DCH_HEIGHT_IN_NBR=6, DCH_UPS_ELEV_FT_NBR=None, DCH_DNS_ELEV_FT_NBR=None, DCH_INSTALL_DATE='2003/10/08 13:57:42+00', DCH_LST_UPDT_DATE='2013/02/01 00:00:00+00', DCH_STREAM_NAME=None, DCH_GSIP_NAME=None, SHAPE_Length=31.2952437363673),\n",
       " Row(OBJECTID=43359, DCH_FEA_KEY=4946535, DCH_GRPH_KEY=None, DCH_FEATYPE_TEXT='Under Drain', DCH_OWNER_NAME='Private', DCH_PRBL_FLOW_TYPE='Drainage', DCH_MATERIAL_TYPE='Unknown', DCH_PIPE_SHP_TEXT='Circular', DCH_LIFECYCLE_STAT='Connected', DCH_DSTNTN_TYPE=None, DCH_INSPECT_FLAG='Y', DCH_CASING_FLAG='N', DCH_PERF_PIPE_FLAG='N', DCH_LENGTH_FT_NBR=99.71, DCH_WIDTH_IN_NBR=None, DCH_HEIGHT_IN_NBR=None, DCH_UPS_ELEV_FT_NBR=None, DCH_DNS_ELEV_FT_NBR=None, DCH_INSTALL_DATE='2009/10/15 13:51:14+00', DCH_LST_UPDT_DATE='2013/02/01 00:00:00+00', DCH_STREAM_NAME=None, DCH_GSIP_NAME=None, SHAPE_Length=99.7148255104631),\n",
       " Row(OBJECTID=43593, DCH_FEA_KEY=4959469, DCH_GRPH_KEY=None, DCH_FEATYPE_TEXT='Under Drain', DCH_OWNER_NAME='Private', DCH_PRBL_FLOW_TYPE='Drainage', DCH_MATERIAL_TYPE='Polyvinyl Chloride', DCH_PIPE_SHP_TEXT='Circular', DCH_LIFECYCLE_STAT='Connected', DCH_DSTNTN_TYPE=None, DCH_INSPECT_FLAG='Y', DCH_CASING_FLAG='N', DCH_PERF_PIPE_FLAG='Y', DCH_LENGTH_FT_NBR=96.47, DCH_WIDTH_IN_NBR=6, DCH_HEIGHT_IN_NBR=6, DCH_UPS_ELEV_FT_NBR=None, DCH_DNS_ELEV_FT_NBR=None, DCH_INSTALL_DATE='2010/07/29 09:45:24+00', DCH_LST_UPDT_DATE='2013/02/01 00:00:00+00', DCH_STREAM_NAME=None, DCH_GSIP_NAME=None, SHAPE_Length=96.4664322308999),\n",
       " Row(OBJECTID=43594, DCH_FEA_KEY=4959476, DCH_GRPH_KEY=None, DCH_FEATYPE_TEXT='Under Drain', DCH_OWNER_NAME='Private', DCH_PRBL_FLOW_TYPE='Drainage', DCH_MATERIAL_TYPE='Polyvinyl Chloride', DCH_PIPE_SHP_TEXT='Circular', DCH_LIFECYCLE_STAT='Connected', DCH_DSTNTN_TYPE=None, DCH_INSPECT_FLAG='Y', DCH_CASING_FLAG='N', DCH_PERF_PIPE_FLAG='Y', DCH_LENGTH_FT_NBR=96.76, DCH_WIDTH_IN_NBR=6, DCH_HEIGHT_IN_NBR=6, DCH_UPS_ELEV_FT_NBR=None, DCH_DNS_ELEV_FT_NBR=None, DCH_INSTALL_DATE='2010/07/29 09:54:27+00', DCH_LST_UPDT_DATE='2013/02/01 00:00:00+00', DCH_STREAM_NAME=None, DCH_GSIP_NAME=None, SHAPE_Length=96.7559382370513),\n",
       " Row(OBJECTID=43595, DCH_FEA_KEY=4959482, DCH_GRPH_KEY=None, DCH_FEATYPE_TEXT='Under Drain', DCH_OWNER_NAME='Private', DCH_PRBL_FLOW_TYPE='Drainage', DCH_MATERIAL_TYPE='Polyvinyl Chloride', DCH_PIPE_SHP_TEXT='Circular', DCH_LIFECYCLE_STAT='Connected', DCH_DSTNTN_TYPE=None, DCH_INSPECT_FLAG='Y', DCH_CASING_FLAG='N', DCH_PERF_PIPE_FLAG='Y', DCH_LENGTH_FT_NBR=74.06, DCH_WIDTH_IN_NBR=6, DCH_HEIGHT_IN_NBR=6, DCH_UPS_ELEV_FT_NBR=None, DCH_DNS_ELEV_FT_NBR=None, DCH_INSTALL_DATE='2010/07/29 09:55:55+00', DCH_LST_UPDT_DATE='2013/02/01 00:00:00+00', DCH_STREAM_NAME=None, DCH_GSIP_NAME=None, SHAPE_Length=74.057582632488),\n",
       " Row(OBJECTID=43719, DCH_FEA_KEY=4975773, DCH_GRPH_KEY=None, DCH_FEATYPE_TEXT='Under Drain', DCH_OWNER_NAME='Private', DCH_PRBL_FLOW_TYPE='Drainage', DCH_MATERIAL_TYPE='Polyvinyl Chloride', DCH_PIPE_SHP_TEXT='Circular', DCH_LIFECYCLE_STAT='Connected', DCH_DSTNTN_TYPE=None, DCH_INSPECT_FLAG='Y', DCH_CASING_FLAG='N', DCH_PERF_PIPE_FLAG='Y', DCH_LENGTH_FT_NBR=26.1, DCH_WIDTH_IN_NBR=None, DCH_HEIGHT_IN_NBR=None, DCH_UPS_ELEV_FT_NBR=None, DCH_DNS_ELEV_FT_NBR=None, DCH_INSTALL_DATE='2005/08/18 16:04:10+00', DCH_LST_UPDT_DATE='2013/02/01 00:00:00+00', DCH_STREAM_NAME=None, DCH_GSIP_NAME=None, SHAPE_Length=26.0999402787214),\n",
       " Row(OBJECTID=43720, DCH_FEA_KEY=4975829, DCH_GRPH_KEY=None, DCH_FEATYPE_TEXT='Under Drain', DCH_OWNER_NAME='Private', DCH_PRBL_FLOW_TYPE='Drainage', DCH_MATERIAL_TYPE='Polyvinyl Chloride', DCH_PIPE_SHP_TEXT='Circular', DCH_LIFECYCLE_STAT='Connected', DCH_DSTNTN_TYPE=None, DCH_INSPECT_FLAG='Y', DCH_CASING_FLAG='N', DCH_PERF_PIPE_FLAG='Y', DCH_LENGTH_FT_NBR=71.92, DCH_WIDTH_IN_NBR=None, DCH_HEIGHT_IN_NBR=None, DCH_UPS_ELEV_FT_NBR=None, DCH_DNS_ELEV_FT_NBR=None, DCH_INSTALL_DATE='2005/08/18 16:13:53+00', DCH_LST_UPDT_DATE='2013/02/01 00:00:00+00', DCH_STREAM_NAME=None, DCH_GSIP_NAME=None, SHAPE_Length=71.9219667641647),\n",
       " Row(OBJECTID=43721, DCH_FEA_KEY=4975832, DCH_GRPH_KEY=None, DCH_FEATYPE_TEXT='Under Drain', DCH_OWNER_NAME='Private', DCH_PRBL_FLOW_TYPE='Drainage', DCH_MATERIAL_TYPE='Polyvinyl Chloride', DCH_PIPE_SHP_TEXT='Circular', DCH_LIFECYCLE_STAT='Connected', DCH_DSTNTN_TYPE=None, DCH_INSPECT_FLAG='Y', DCH_CASING_FLAG='N', DCH_PERF_PIPE_FLAG='Y', DCH_LENGTH_FT_NBR=59.61, DCH_WIDTH_IN_NBR=None, DCH_HEIGHT_IN_NBR=None, DCH_UPS_ELEV_FT_NBR=None, DCH_DNS_ELEV_FT_NBR=None, DCH_INSTALL_DATE='2005/08/18 16:13:53+00', DCH_LST_UPDT_DATE='2013/02/01 00:00:00+00', DCH_STREAM_NAME=None, DCH_GSIP_NAME=None, SHAPE_Length=59.6071144283581),\n",
       " Row(OBJECTID=43722, DCH_FEA_KEY=4975836, DCH_GRPH_KEY=None, DCH_FEATYPE_TEXT='Under Drain', DCH_OWNER_NAME='Private', DCH_PRBL_FLOW_TYPE='Drainage', DCH_MATERIAL_TYPE='Polyvinyl Chloride', DCH_PIPE_SHP_TEXT='Circular', DCH_LIFECYCLE_STAT='Connected', DCH_DSTNTN_TYPE=None, DCH_INSPECT_FLAG='Y', DCH_CASING_FLAG='N', DCH_PERF_PIPE_FLAG='Y', DCH_LENGTH_FT_NBR=36.42, DCH_WIDTH_IN_NBR=None, DCH_HEIGHT_IN_NBR=None, DCH_UPS_ELEV_FT_NBR=None, DCH_DNS_ELEV_FT_NBR=None, DCH_INSTALL_DATE='2005/08/18 16:13:53+00', DCH_LST_UPDT_DATE='2013/02/01 00:00:00+00', DCH_STREAM_NAME=None, DCH_GSIP_NAME=None, SHAPE_Length=36.4196222453169)]"
      ]
     },
     "execution_count": 25,
     "metadata": {},
     "output_type": "execute_result"
    }
   ],
   "source": [
    "filtered_rdd = filtered_df.rdd\n",
    "filtered_rdd.take(10)"
   ]
  },
  {
   "cell_type": "markdown",
   "id": "62ddae0e-6e37-4929-b767-e902842ebe10",
   "metadata": {},
   "source": [
    "### Logic Code"
   ]
  },
  {
   "cell_type": "code",
   "execution_count": 5,
   "id": "897f787a-958b-409d-b9f9-3e5498b1f2db",
   "metadata": {},
   "outputs": [],
   "source": [
    "def get_timestamp(date_text):\n",
    "    \"\"\"Get timestamp from date text\"\"\"\n",
    "    try:\n",
    "        date_text = datetime.strptime(date_text, '%Y/%m/%d %H:%M:%S+00')\n",
    "    except ValueError:\n",
    "        date_text = datetime.strptime(\n",
    "            \"1900/01/01 01:01:01+00\", '%Y/%m/%d %H:%M:%S+00')\n",
    "\n",
    "    return date_text.timestamp()"
   ]
  },
  {
   "cell_type": "code",
   "execution_count": 6,
   "id": "ad42285c-d215-4b9d-831e-ad3bd4583531",
   "metadata": {},
   "outputs": [],
   "source": [
    "def snap_time_to_resolution(timestamp, resolution=1):\n",
    "    \"\"\"Snap time to resolution\"\"\"\n",
    "    if resolution <= 0:\n",
    "        resolution = 1\n",
    "    resolution_ms = resolution * 60\n",
    "    snapped_time = datetime.fromtimestamp(\n",
    "        math.floor(timestamp / resolution_ms) * resolution_ms)\n",
    "\n",
    "    return snapped_time"
   ]
  },
  {
   "cell_type": "markdown",
   "id": "b2a03913-0204-4655-b406-9be9c41b084b",
   "metadata": {},
   "source": [
    "# Create UDF\n",
    "\n",
    "*There are 2 ways of registering a UDF*"
   ]
  },
  {
   "cell_type": "markdown",
   "id": "61484e4a-10a4-43e0-9843-57c6c75c18a2",
   "metadata": {},
   "source": [
    "### Way #1: \n",
    "\n",
    "*add annotation **@udf()** on top of the function*"
   ]
  },
  {
   "cell_type": "code",
   "execution_count": 12,
   "id": "d453af9c-7576-431a-9940-6bf8ce03c1c0",
   "metadata": {},
   "outputs": [],
   "source": [
    "@udf(returnType=TimestampType())\n",
    "def snap_row(date, resolution=2):\n",
    "    \"\"\"Snap row to resolution\"\"\"\n",
    "    timestamp = get_timestamp(date)\n",
    "    snapped_time = snap_time_to_resolution(timestamp, resolution)\n",
    "    return snapped_time\n"
   ]
  },
  {
   "cell_type": "code",
   "execution_count": 8,
   "id": "f257b630-808e-4f8a-9639-7810fc103716",
   "metadata": {},
   "outputs": [],
   "source": [
    "filtered_df.withColumn('SNAPPED_TIME', snap_row(filtered_df.DCH_INSTALL_DATE)).write.mode(\"overwrite\").csv(\"data/csvs\", header=True)"
   ]
  },
  {
   "cell_type": "markdown",
   "id": "e9f6fdb0-7853-44b6-9cfa-aa161e9bb3e9",
   "metadata": {
    "tags": []
   },
   "source": [
    "### Way #2: \n",
    "\n",
    "\n",
    "*use the **udf()** function and wrap the function to register and a type as 2nd arg*"
   ]
  },
  {
   "cell_type": "code",
   "execution_count": 9,
   "id": "add8d071-5fe7-405d-96e5-170b7fda6dd1",
   "metadata": {},
   "outputs": [],
   "source": [
    "# def snap_row(date, resolution=15):\n",
    "#     \"\"\"Snap row to resolution\"\"\"\n",
    "#     timestamp = get_timestamp(date)\n",
    "#     snapped_time = snap_time_to_resolution(timestamp, resolution)\n",
    "#     return snapped_time\n",
    "\n",
    "# snap_udf = udf(snap_row, 'timestamp')\n",
    "# filtered_df.withColumn('SNAPPED_TIME', snap_udf(filtered_df.DCH_INSTALL_DATE)).write.mode(\"overwrite\").csv(\"data/csvs\", header=True)"
   ]
  },
  {
   "cell_type": "code",
   "execution_count": 28,
   "id": "24cd8331-7b3f-405e-b579-b518e5c52268",
   "metadata": {},
   "outputs": [
    {
     "data": {
      "text/plain": [
       "[Row(function='snap_row')]"
      ]
     },
     "execution_count": 28,
     "metadata": {},
     "output_type": "execute_result"
    }
   ],
   "source": [
    "spark.sql(\"SHOW USER FUNCTIONS\").collect()"
   ]
  },
  {
   "cell_type": "code",
   "execution_count": 29,
   "id": "fc0e9faa-8d86-45bc-9897-61c0965d5893",
   "metadata": {},
   "outputs": [],
   "source": [
    "filtered_df.withColumn('SNAPPED_TIME', snap_row2(filtered_df.DCH_INSTALL_DATE)).write.mode(\"overwrite\").csv(\"data/csvs\", header=True)"
   ]
  }
 ],
 "metadata": {
  "kernelspec": {
   "display_name": "Python 3 (ipykernel)",
   "language": "python",
   "name": "python3"
  },
  "language_info": {
   "codemirror_mode": {
    "name": "ipython",
    "version": 3
   },
   "file_extension": ".py",
   "mimetype": "text/x-python",
   "name": "python",
   "nbconvert_exporter": "python",
   "pygments_lexer": "ipython3",
   "version": "3.10.6"
  },
  "vscode": {
   "interpreter": {
    "hash": "916dbcbb3f70747c44a77c7bcd40155683ae19c65e1c03b4aa3499c5328201f1"
   }
  }
 },
 "nbformat": 4,
 "nbformat_minor": 5
}
